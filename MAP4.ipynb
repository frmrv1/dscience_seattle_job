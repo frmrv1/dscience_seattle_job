{
 "cells": [
  {
   "cell_type": "code",
   "execution_count": 2,
   "id": "73d34189-b4f5-4f90-a134-2a275d4591d7",
   "metadata": {},
   "outputs": [
    {
     "name": "stdout",
     "output_type": "stream",
     "text": [
      "Collecting dash\n",
      "  Obtaining dependency information for dash from https://files.pythonhosted.org/packages/00/69/d0ee9c6524678e98d336464d5c898182794c6b2ba1e5507bc7010a126ce2/dash-2.14.1-py3-none-any.whl.metadata\n",
      "  Downloading dash-2.14.1-py3-none-any.whl.metadata (11 kB)\n",
      "Collecting Flask<3.1,>=1.0.4 (from dash)\n",
      "  Obtaining dependency information for Flask<3.1,>=1.0.4 from https://files.pythonhosted.org/packages/36/42/015c23096649b908c809c69388a805a571a3bea44362fe87e33fc3afa01f/flask-3.0.0-py3-none-any.whl.metadata\n",
      "  Downloading flask-3.0.0-py3-none-any.whl.metadata (3.6 kB)\n",
      "Collecting Werkzeug<3.1 (from dash)\n",
      "  Obtaining dependency information for Werkzeug<3.1 from https://files.pythonhosted.org/packages/c3/fc/254c3e9b5feb89ff5b9076a23218dafbc99c96ac5941e900b71206e6313b/werkzeug-3.0.1-py3-none-any.whl.metadata\n",
      "  Downloading werkzeug-3.0.1-py3-none-any.whl.metadata (4.1 kB)\n",
      "Requirement already satisfied: plotly>=5.0.0 in c:\\programdata\\miniconda3\\lib\\site-packages (from dash) (5.18.0)\n",
      "Collecting dash-html-components==2.0.0 (from dash)\n",
      "  Downloading dash_html_components-2.0.0-py3-none-any.whl (4.1 kB)\n",
      "Collecting dash-core-components==2.0.0 (from dash)\n",
      "  Downloading dash_core_components-2.0.0-py3-none-any.whl (3.8 kB)\n",
      "Collecting dash-table==5.0.0 (from dash)\n",
      "  Downloading dash_table-5.0.0-py3-none-any.whl (3.9 kB)\n",
      "Requirement already satisfied: typing-extensions>=4.1.1 in c:\\programdata\\miniconda3\\lib\\site-packages (from dash) (4.7.1)\n",
      "Requirement already satisfied: requests in c:\\programdata\\miniconda3\\lib\\site-packages (from dash) (2.31.0)\n",
      "Collecting retrying (from dash)\n",
      "  Downloading retrying-1.3.4-py3-none-any.whl (11 kB)\n",
      "Collecting ansi2html (from dash)\n",
      "  Downloading ansi2html-1.8.0-py3-none-any.whl (16 kB)\n",
      "Requirement already satisfied: nest-asyncio in c:\\programdata\\miniconda3\\lib\\site-packages (from dash) (1.5.6)\n",
      "Requirement already satisfied: setuptools in c:\\programdata\\miniconda3\\lib\\site-packages (from dash) (68.0.0)\n",
      "Requirement already satisfied: importlib-metadata in c:\\programdata\\miniconda3\\lib\\site-packages (from dash) (6.8.0)\n",
      "Requirement already satisfied: Jinja2>=3.1.2 in c:\\programdata\\miniconda3\\lib\\site-packages (from Flask<3.1,>=1.0.4->dash) (3.1.2)\n",
      "Collecting itsdangerous>=2.1.2 (from Flask<3.1,>=1.0.4->dash)\n",
      "  Downloading itsdangerous-2.1.2-py3-none-any.whl (15 kB)\n",
      "Requirement already satisfied: click>=8.1.3 in c:\\programdata\\miniconda3\\lib\\site-packages (from Flask<3.1,>=1.0.4->dash) (8.1.7)\n",
      "Collecting blinker>=1.6.2 (from Flask<3.1,>=1.0.4->dash)\n",
      "  Obtaining dependency information for blinker>=1.6.2 from https://files.pythonhosted.org/packages/fa/2a/7f3714cbc6356a0efec525ce7a0613d581072ed6eb53eb7b9754f33db807/blinker-1.7.0-py3-none-any.whl.metadata\n",
      "  Downloading blinker-1.7.0-py3-none-any.whl.metadata (1.9 kB)\n",
      "Requirement already satisfied: tenacity>=6.2.0 in c:\\programdata\\miniconda3\\lib\\site-packages (from plotly>=5.0.0->dash) (8.2.3)\n",
      "Requirement already satisfied: packaging in c:\\programdata\\miniconda3\\lib\\site-packages (from plotly>=5.0.0->dash) (23.1)\n",
      "Requirement already satisfied: MarkupSafe>=2.1.1 in c:\\programdata\\miniconda3\\lib\\site-packages (from Werkzeug<3.1->dash) (2.1.1)\n",
      "Requirement already satisfied: zipp>=0.5 in c:\\programdata\\miniconda3\\lib\\site-packages (from importlib-metadata->dash) (3.17.0)\n",
      "Requirement already satisfied: charset-normalizer<4,>=2 in c:\\programdata\\miniconda3\\lib\\site-packages (from requests->dash) (2.0.4)\n",
      "Requirement already satisfied: idna<4,>=2.5 in c:\\programdata\\miniconda3\\lib\\site-packages (from requests->dash) (3.4)\n",
      "Requirement already satisfied: urllib3<3,>=1.21.1 in c:\\programdata\\miniconda3\\lib\\site-packages (from requests->dash) (1.26.18)\n",
      "Requirement already satisfied: certifi>=2017.4.17 in c:\\programdata\\miniconda3\\lib\\site-packages (from requests->dash) (2023.7.22)\n",
      "Requirement already satisfied: six>=1.7.0 in c:\\programdata\\miniconda3\\lib\\site-packages (from retrying->dash) (1.16.0)\n",
      "Requirement already satisfied: colorama in c:\\programdata\\miniconda3\\lib\\site-packages (from click>=8.1.3->Flask<3.1,>=1.0.4->dash) (0.4.6)\n",
      "Downloading dash-2.14.1-py3-none-any.whl (10.4 MB)\n",
      "   ---------------------------------------- 0.0/10.4 MB ? eta -:--:--\n",
      "   -- ------------------------------------- 0.6/10.4 MB 19.5 MB/s eta 0:00:01\n",
      "   ------ --------------------------------- 1.6/10.4 MB 17.0 MB/s eta 0:00:01\n",
      "   ------------ --------------------------- 3.1/10.4 MB 22.2 MB/s eta 0:00:01\n",
      "   ----------------- ---------------------- 4.6/10.4 MB 26.7 MB/s eta 0:00:01\n",
      "   ----------------------- ---------------- 6.1/10.4 MB 27.8 MB/s eta 0:00:01\n",
      "   --------------------------------- ------ 8.6/10.4 MB 32.5 MB/s eta 0:00:01\n",
      "   ---------------------------------------  10.4/10.4 MB 34.4 MB/s eta 0:00:01\n",
      "   ---------------------------------------- 10.4/10.4 MB 32.7 MB/s eta 0:00:00\n",
      "Downloading flask-3.0.0-py3-none-any.whl (99 kB)\n",
      "   ---------------------------------------- 0.0/99.7 kB ? eta -:--:--\n",
      "   ---------------------------------------- 99.7/99.7 kB 5.6 MB/s eta 0:00:00\n",
      "Downloading werkzeug-3.0.1-py3-none-any.whl (226 kB)\n",
      "   ---------------------------------------- 0.0/226.7 kB ? eta -:--:--\n",
      "   --------------------------------------- 226.7/226.7 kB 13.5 MB/s eta 0:00:00\n",
      "Downloading blinker-1.7.0-py3-none-any.whl (13 kB)\n",
      "Installing collected packages: dash-table, dash-html-components, dash-core-components, Werkzeug, retrying, itsdangerous, blinker, ansi2html, Flask, dash\n",
      "Successfully installed Flask-3.0.0 Werkzeug-3.0.1 ansi2html-1.8.0 blinker-1.7.0 dash-2.14.1 dash-core-components-2.0.0 dash-html-components-2.0.0 dash-table-5.0.0 itsdangerous-2.1.2 retrying-1.3.4\n"
     ]
    }
   ],
   "source": [
    "!pip install dash"
   ]
  },
  {
   "cell_type": "code",
   "execution_count": 5,
   "id": "3a947e6b-1f99-49e8-a607-8e7e86634ee2",
   "metadata": {},
   "outputs": [
    {
     "data": {
      "text/html": [
       "\n",
       "        <iframe\n",
       "            width=\"100%\"\n",
       "            height=\"650\"\n",
       "            src=\"http://127.0.0.1:9059/\"\n",
       "            frameborder=\"0\"\n",
       "            allowfullscreen\n",
       "            \n",
       "        ></iframe>\n",
       "        "
      ],
      "text/plain": [
       "<IPython.lib.display.IFrame at 0x26975d6da90>"
      ]
     },
     "metadata": {},
     "output_type": "display_data"
    }
   ],
   "source": [
    "import dash\n",
    "import dash_html_components as html\n",
    "import plotly.graph_objects as go\n",
    "import plotly.express as px\n",
    "from dash import Dash, dcc, html, Output, Input, State, callback, no_update\n",
    "import dash_core_components as dcc\n",
    "import pandas as pd\n",
    "import json\n",
    "\n",
    "app = dash.Dash()\n",
    "\n",
    "df = pd.read_csv('estrategis-ec.com_data_dash_data.csv',delimiter =\";\")\n",
    "\n",
    "def fig_map(df):\n",
    "    fig = px.scatter_mapbox(df, lat=\"lat\", lon=\"lon\",\n",
    "                            height=600, width=900,\n",
    "                            color=\"Empresas\", size=\"Empresas\", size_max=75, animation_frame='year',\n",
    "                            color_continuous_scale='viridis',\n",
    "                            mapbox_style=\"carto-positron\", zoom=5.5, hover_name=\"City\",\n",
    "                            center={\"lat\": -2, \"lon\": -79.01})\n",
    "\n",
    "    return fig\n",
    "\n",
    "app.layout = html.Div([\n",
    "\n",
    "    html.Div([\n",
    "        dcc.Graph(id='map_plot1', figure=fig_map(df))],\n",
    "        style={'width': '75%', 'display': 'inline-block'}),\n",
    "\n",
    "    html.Div(style={'width': '25%', 'display': 'inline-block'}, id='my-graph-container')\n",
    "])\n",
    "\n",
    "\n",
    "##calback\n",
    "@callback(\n",
    "    Output(component_id='my-graph-container', component_property='children'),\n",
    "    Input(component_id='map_plot1', component_property='clickData'))\n",
    "def update_graph(clickData):\n",
    "    if clickData:\n",
    "        city = clickData['points'][0]['hovertext']\n",
    "        print(city)\n",
    "\n",
    "        dff = df[df['City'] == city]\n",
    "        print(dff.head())\n",
    "        fig1 = px.line(dff, x='year', y='Empresas', title=city)\n",
    "        return dcc.Graph(figure=fig1)\n",
    "    else:\n",
    "        no_update\n",
    "\n",
    "\n",
    "if __name__ == '__main__':\n",
    "    app.run_server(debug=True, use_reloader=False, port=8059)"
   ]
  },
  {
   "cell_type": "code",
   "execution_count": null,
   "id": "a5bf731e-7afc-4ed7-bc38-acfa82a0d422",
   "metadata": {},
   "outputs": [],
   "source": []
  }
 ],
 "metadata": {
  "kernelspec": {
   "display_name": "Python 3 (ipykernel)",
   "language": "python",
   "name": "python3"
  },
  "language_info": {
   "codemirror_mode": {
    "name": "ipython",
    "version": 3
   },
   "file_extension": ".py",
   "mimetype": "text/x-python",
   "name": "python",
   "nbconvert_exporter": "python",
   "pygments_lexer": "ipython3",
   "version": "3.11.5"
  }
 },
 "nbformat": 4,
 "nbformat_minor": 5
}
